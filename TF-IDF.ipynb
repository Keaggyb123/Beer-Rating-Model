{
 "cells": [
  {
   "cell_type": "code",
   "execution_count": 1,
   "id": "a88c3c31",
   "metadata": {},
   "outputs": [],
   "source": [
    "# imports\n",
    "import gzip\n",
    "import math\n",
    "import random\n",
    "from collections import defaultdict\n",
    "import pandas as pd\n",
    "import numpy as np\n",
    "import matplotlib.pyplot as plt\n",
    "from nltk.tokenize import word_tokenize\n",
    "import string\n",
    "from scipy.sparse import csr_matrix\n",
    "from sklearn.metrics import confusion_matrix\n",
    "from sklearn import linear_model\n",
    "from sklearn.metrics import mean_squared_error\n",
    "from sklearn.metrics import mean_absolute_error\n",
    "from sklearn.feature_extraction.text import TfidfVectorizer\n",
    "from sklearn.pipeline import Pipeline"
   ]
  },
  {
   "cell_type": "code",
   "execution_count": 2,
   "id": "5d189afe",
   "metadata": {},
   "outputs": [],
   "source": [
    "# converts sentences to tokens\n",
    "punct = string.punctuation\n",
    "def word2token(sent):\n",
    "        t = sent.lower() # lowercase string\n",
    "        t = \"\".join([c for c in t if not (c in punct)]) # non-punct characters\n",
    "        words = word_tokenize(t)# tokenizes\n",
    "        return words"
   ]
  },
  {
   "cell_type": "code",
   "execution_count": 3,
   "id": "93c4392d",
   "metadata": {},
   "outputs": [],
   "source": [
    "# reading in first 500,001 entries of DS\n",
    "file = 'beer.json.gz'\n",
    "def readData(path):\n",
    "    x = gzip.open(path)\n",
    "    for l in x:\n",
    "        yield eval(l)"
   ]
  },
  {
   "cell_type": "code",
   "execution_count": 4,
   "id": "e525d87c",
   "metadata": {},
   "outputs": [],
   "source": [
    "count = 0\n",
    "X_train = []\n",
    "y_train = []\n",
    "X_test = []\n",
    "y_test = []\n",
    "amount_in_train = 400000\n",
    "for d in readData(file):\n",
    "    if count > 500000:\n",
    "        break\n",
    "    if count < amount_in_train:\n",
    "        X_train.append(d['review/text'])\n",
    "        y_train.append(d[\"review/overall\"])\n",
    "    if count > amount_in_train:\n",
    "        X_test.append(d['review/text'])\n",
    "        y_test.append(d[\"review/overall\"])\n",
    "    count = count + 1"
   ]
  },
  {
   "cell_type": "code",
   "execution_count": 5,
   "id": "fe31803e",
   "metadata": {},
   "outputs": [],
   "source": [
    "pipeline = Pipeline([\n",
    "    ('Tf-Idf', TfidfVectorizer(ngram_range=(1,2), analyzer=word2token)),\n",
    "    ('regressor', linear_model.Ridge())\n",
    "])"
   ]
  },
  {
   "cell_type": "code",
   "execution_count": 9,
   "id": "6a14881c",
   "metadata": {},
   "outputs": [
    {
     "data": {
      "text/plain": [
       "Pipeline(steps=[('Tf-Idf',\n",
       "                 TfidfVectorizer(analyzer=<function word2token at 0x7fa31e95edc0>,\n",
       "                                 ngram_range=(1, 2))),\n",
       "                ('regressor', Ridge())])"
      ]
     },
     "execution_count": 9,
     "metadata": {},
     "output_type": "execute_result"
    }
   ],
   "source": [
    "pipeline.fit(X_train, y_train)"
   ]
  },
  {
   "cell_type": "code",
   "execution_count": 10,
   "id": "42ba1b22",
   "metadata": {},
   "outputs": [],
   "source": [
    "pip_pred = pipeline.predict(X_test)"
   ]
  },
  {
   "cell_type": "code",
   "execution_count": 11,
   "id": "3d3cc878",
   "metadata": {},
   "outputs": [
    {
     "data": {
      "text/plain": [
       "0.3993373271420648"
      ]
     },
     "execution_count": 11,
     "metadata": {},
     "output_type": "execute_result"
    }
   ],
   "source": [
    "mean_absolute_error(y_test, pip_pred)"
   ]
  },
  {
   "cell_type": "code",
   "execution_count": 13,
   "id": "82174da0",
   "metadata": {},
   "outputs": [],
   "source": [
    "pipeline = Pipeline([\n",
    "    ('Tf-Idf', TfidfVectorizer(ngram_range=(1,1), analyzer=word2token)),\n",
    "    ('regressor', linear_model.Ridge())\n",
    "])"
   ]
  },
  {
   "cell_type": "code",
   "execution_count": 14,
   "id": "71c3c6b1",
   "metadata": {},
   "outputs": [
    {
     "data": {
      "text/plain": [
       "Pipeline(steps=[('Tf-Idf',\n",
       "                 TfidfVectorizer(analyzer=<function word2token at 0x7fa31e95edc0>)),\n",
       "                ('regressor', Ridge())])"
      ]
     },
     "execution_count": 14,
     "metadata": {},
     "output_type": "execute_result"
    }
   ],
   "source": [
    "pipeline.fit(X_train, y_train)"
   ]
  },
  {
   "cell_type": "code",
   "execution_count": 15,
   "id": "b7af615b",
   "metadata": {},
   "outputs": [],
   "source": [
    "pip_pred = pipeline.predict(X_test)"
   ]
  },
  {
   "cell_type": "code",
   "execution_count": 16,
   "id": "14b30591",
   "metadata": {},
   "outputs": [
    {
     "data": {
      "text/plain": [
       "0.3993373271420648"
      ]
     },
     "execution_count": 16,
     "metadata": {},
     "output_type": "execute_result"
    }
   ],
   "source": [
    "mean_absolute_error(y_test, pip_pred)"
   ]
  },
  {
   "cell_type": "code",
   "execution_count": null,
   "id": "11d8ebb3",
   "metadata": {},
   "outputs": [],
   "source": []
  }
 ],
 "metadata": {
  "kernelspec": {
   "display_name": "Python 3 (ipykernel)",
   "language": "python",
   "name": "python3"
  },
  "language_info": {
   "codemirror_mode": {
    "name": "ipython",
    "version": 3
   },
   "file_extension": ".py",
   "mimetype": "text/x-python",
   "name": "python",
   "nbconvert_exporter": "python",
   "pygments_lexer": "ipython3",
   "version": "3.9.5"
  }
 },
 "nbformat": 4,
 "nbformat_minor": 5
}
