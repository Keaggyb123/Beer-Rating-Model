{
 "cells": [
  {
   "cell_type": "code",
   "execution_count": 1,
   "id": "31bc0505",
   "metadata": {},
   "outputs": [],
   "source": [
    "# imports\n",
    "import gzip\n",
    "import math\n",
    "import random\n",
    "from collections import defaultdict\n",
    "import pandas as pd\n",
    "import numpy as np\n",
    "import matplotlib.pyplot as plt\n",
    "from nltk.tokenize import word_tokenize\n",
    "import string\n",
    "from scipy.sparse import csr_matrix\n",
    "from sklearn.metrics import confusion_matrix\n",
    "from sklearn import linear_model\n",
    "from sklearn.metrics import mean_squared_error\n",
    "from sklearn.metrics import mean_absolute_error\n",
    "from sklearn.feature_extraction.text import TfidfVectorizer\n",
    "from sklearn.pipeline import Pipeline"
   ]
  },
  {
   "cell_type": "code",
   "execution_count": 2,
   "id": "c0e042a7",
   "metadata": {},
   "outputs": [],
   "source": [
    "# converts sentences to tokens\n",
    "punct = string.punctuation\n",
    "def word2token(sent):\n",
    "        t = sent.lower() # lowercase string\n",
    "        t = \"\".join([c for c in t if not (c in punct)]) # non-punct characters\n",
    "        words = word_tokenize(t)# tokenizes\n",
    "        return words"
   ]
  },
  {
   "cell_type": "code",
   "execution_count": 3,
   "id": "fe1fbb4d",
   "metadata": {},
   "outputs": [],
   "source": [
    "# reading in first 500,001 entries of DS\n",
    "file = 'beer.json.gz'\n",
    "def readData(path):\n",
    "    x = gzip.open(path)\n",
    "    for l in x:\n",
    "        yield eval(l)"
   ]
  },
  {
   "cell_type": "code",
   "execution_count": 5,
   "id": "dcee8768",
   "metadata": {},
   "outputs": [],
   "source": [
    "count = 0\n",
    "d_train = []\n",
    "d_test = []\n",
    "amount_in_train = 400000\n",
    "for d in readData(file):\n",
    "    if count > 500000:\n",
    "        break\n",
    "    if count < amount_in_train:\n",
    "        d_train.append(d)\n",
    "    if count > amount_in_train:\n",
    "        d_test.append(d)\n",
    "    count = count + 1"
   ]
  },
  {
   "cell_type": "code",
   "execution_count": 6,
   "id": "a10a25bd",
   "metadata": {},
   "outputs": [],
   "source": [
    "user_rating = defaultdict(list)\n",
    "beer_rating = defaultdict(list)\n",
    "brew_rating = defaultdict(list)\n",
    "for d in d_train:\n",
    "    beer_rating[d['beer/beerId']].append(d['review/overall'])\n",
    "    user_rating[d['user/profileName']].append([d['beer/beerId'] , d['review/overall']])\n",
    "    brew_rating[d['beer/brewerId']].append( d['review/overall'])"
   ]
  },
  {
   "cell_type": "code",
   "execution_count": 8,
   "id": "5f4d24dc",
   "metadata": {},
   "outputs": [],
   "source": [
    "beer_avg = defaultdict(int)\n",
    "for b in beer_rating:\n",
    "    beer_avg[b] = np.mean(beer_rating[b])\n"
   ]
  },
  {
   "cell_type": "code",
   "execution_count": 9,
   "id": "4b535068",
   "metadata": {},
   "outputs": [],
   "source": [
    "user_avg = defaultdict(list)\n",
    "for u in user_rating:\n",
    "    for b in user_rating[u]:\n",
    "        user_avg[u].append(b[1] - beer_avg[b[0]])"
   ]
  },
  {
   "cell_type": "code",
   "execution_count": 10,
   "id": "3ae10c90",
   "metadata": {},
   "outputs": [],
   "source": [
    "real_u_avg = defaultdict(int)\n",
    "for u in user_avg:\n",
    "    real_u_avg[u] = np.mean(user_avg[u])\n"
   ]
  },
  {
   "cell_type": "code",
   "execution_count": 11,
   "id": "d2f09386",
   "metadata": {},
   "outputs": [],
   "source": [
    "avg_beer = []\n",
    "for d in d_train:\n",
    "    avg_beer.append(d['review/overall'])\n",
    "bavg = np.mean(avg_beer)"
   ]
  },
  {
   "cell_type": "code",
   "execution_count": 12,
   "id": "2fffe242",
   "metadata": {},
   "outputs": [],
   "source": [
    "# does brewery sell better beer\n",
    "brew_avg = defaultdict(int)\n",
    "for br in brew_rating:\n",
    "    brew_avg[br] = np.mean(brew_rating[br]) - bavg"
   ]
  },
  {
   "cell_type": "code",
   "execution_count": 13,
   "id": "b9be7064",
   "metadata": {},
   "outputs": [],
   "source": [
    "train_text = []\n",
    "train_user = []\n",
    "train_rating = []\n",
    "train_brew = []\n",
    "for d in d_train:\n",
    "    train_brew.append(d['beer/brewerId'])\n",
    "    train_text.append(d['review/text'])\n",
    "    train_user.append(d['user/profileName'])\n",
    "    train_rating.append(d['review/overall'])"
   ]
  },
  {
   "cell_type": "code",
   "execution_count": 14,
   "id": "aef71478",
   "metadata": {},
   "outputs": [],
   "source": [
    "test_text = []\n",
    "test_user = []\n",
    "test_rating = []\n",
    "test_brew = []\n",
    "for d in d_test:\n",
    "    test_brew.append(d['beer/brewerId'])\n",
    "    test_text.append(d['review/text'])\n",
    "    test_user.append(d['user/profileName'])\n",
    "    test_rating.append(d['review/overall'])"
   ]
  },
  {
   "cell_type": "code",
   "execution_count": 25,
   "id": "c02d0ef8",
   "metadata": {},
   "outputs": [],
   "source": [
    "pipeline = Pipeline([\n",
    "    ('Tf-Idf', TfidfVectorizer(ngram_range=(1,2), analyzer=word2token)),\n",
    "    ('regressor', linear_model.Ridge())\n",
    "])"
   ]
  },
  {
   "cell_type": "code",
   "execution_count": 26,
   "id": "f72ab664",
   "metadata": {},
   "outputs": [
    {
     "data": {
      "text/plain": [
       "Pipeline(steps=[('Tf-Idf',\n",
       "                 TfidfVectorizer(analyzer=<function word2token at 0x7f42d9435d30>,\n",
       "                                 ngram_range=(1, 2))),\n",
       "                ('regressor', Ridge())])"
      ]
     },
     "execution_count": 26,
     "metadata": {},
     "output_type": "execute_result"
    }
   ],
   "source": [
    "pipeline.fit(train_text, train_rating)"
   ]
  },
  {
   "cell_type": "code",
   "execution_count": 27,
   "id": "f4bf4c78",
   "metadata": {},
   "outputs": [],
   "source": [
    "pip_pred = pipeline.predict(test_text)"
   ]
  },
  {
   "cell_type": "code",
   "execution_count": 28,
   "id": "3edee316",
   "metadata": {},
   "outputs": [],
   "source": [
    "pip_pred = [5 if p>5 else p for p in pip_pred]"
   ]
  },
  {
   "cell_type": "code",
   "execution_count": 29,
   "id": "24ab14e3",
   "metadata": {},
   "outputs": [
    {
     "data": {
      "text/plain": [
       "0.3990474385484594"
      ]
     },
     "execution_count": 29,
     "metadata": {},
     "output_type": "execute_result"
    }
   ],
   "source": [
    "mean_absolute_error(test_rating, pip_pred)"
   ]
  },
  {
   "cell_type": "code",
   "execution_count": 30,
   "id": "2ac09015",
   "metadata": {},
   "outputs": [],
   "source": [
    "new_preds = []\n",
    "for i in range(len(pip_pred)):\n",
    "    user = real_u_avg[test_user[i]]/4\n",
    "    brew = brew_avg[test_brew[i]]/4\n",
    "    new_preds.append(pip_pred[i]+user+brew)"
   ]
  },
  {
   "cell_type": "code",
   "execution_count": 31,
   "id": "9ecd8a96",
   "metadata": {},
   "outputs": [
    {
     "data": {
      "text/plain": [
       "0.39654424584614373"
      ]
     },
     "execution_count": 31,
     "metadata": {},
     "output_type": "execute_result"
    }
   ],
   "source": [
    "mean_absolute_error(test_rating, new_preds)"
   ]
  },
  {
   "cell_type": "code",
   "execution_count": null,
   "id": "df9e1242",
   "metadata": {},
   "outputs": [],
   "source": []
  }
 ],
 "metadata": {
  "kernelspec": {
   "display_name": "Python 3 (clean)",
   "language": "python",
   "name": "python3_clean"
  },
  "language_info": {
   "codemirror_mode": {
    "name": "ipython",
    "version": 3
   },
   "file_extension": ".py",
   "mimetype": "text/x-python",
   "name": "python",
   "nbconvert_exporter": "python",
   "pygments_lexer": "ipython3",
   "version": "3.9.5"
  }
 },
 "nbformat": 4,
 "nbformat_minor": 5
}
